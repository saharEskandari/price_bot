{
  "cells": [
    {
      "cell_type": "code",
      "execution_count": null,
      "metadata": {
        "colab": {
          "base_uri": "https://localhost:8080/"
        },
        "id": "2eApwElaGrgj",
        "outputId": "be29d405-91a9-4385-9b6a-31808f35065d"
      },
      "outputs": [
        {
          "name": "stdout",
          "output_type": "stream",
          "text": [
            "💵 قیمت لحظه‌ای دلار: 913,650 تومان\n"
          ]
        }
      ],
      "source": [
        "import requests\n",
        "from bs4 import BeautifulSoup\n",
        "\n",
        "url = \"https://www.tgju.org/profile/price_dollar_rl\"\n",
        "\n",
        "headers = {\n",
        "    \"User-Agent\": \"Mozilla/5.0 (Windows NT 10.0; Win64; x64) AppleWebKit/537.36 (KHTML, like Gecko) Chrome/91.0.4472.124 Safari/537.36\"\n",
        "}\n",
        "\n",
        "response = requests.get(url, headers=headers)\n",
        "soup = BeautifulSoup(response.text, \"html.parser\")\n",
        "\n",
        "# پیدا کردن نرخ فعلی دلار\n",
        "price_element = soup.find(\"td\", class_=\"text-left\")  # بررسی کن که کلاس درست است\n",
        "if price_element:\n",
        "    price = price_element.text.strip()\n",
        "    print(f\"💵 قیمت لحظه‌ای دلار: {price} تومان\")\n",
        "else:\n",
        "    print(\"❌ قیمت پیدا نشد\")\n"
      ]
    },
    {
      "cell_type": "code",
      "execution_count": null,
      "metadata": {
        "colab": {
          "base_uri": "https://localhost:8080/"
        },
        "id": "Jk6-qvn3GvWI",
        "outputId": "86890b00-3ca1-43bc-d66a-958a70423913"
      },
      "outputs": [
        {
          "name": "stdout",
          "output_type": "stream",
          "text": [
            "Collecting python-telegram-bot\n",
            "  Downloading python_telegram_bot-21.10-py3-none-any.whl.metadata (17 kB)\n",
            "Requirement already satisfied: requests in /usr/local/lib/python3.11/dist-packages (2.32.3)\n",
            "Requirement already satisfied: beautifulsoup4 in /usr/local/lib/python3.11/dist-packages (4.13.3)\n",
            "Requirement already satisfied: httpx~=0.27 in /usr/local/lib/python3.11/dist-packages (from python-telegram-bot) (0.28.1)\n",
            "Requirement already satisfied: charset-normalizer<4,>=2 in /usr/local/lib/python3.11/dist-packages (from requests) (3.4.1)\n",
            "Requirement already satisfied: idna<4,>=2.5 in /usr/local/lib/python3.11/dist-packages (from requests) (3.10)\n",
            "Requirement already satisfied: urllib3<3,>=1.21.1 in /usr/local/lib/python3.11/dist-packages (from requests) (2.3.0)\n",
            "Requirement already satisfied: certifi>=2017.4.17 in /usr/local/lib/python3.11/dist-packages (from requests) (2025.1.31)\n",
            "Requirement already satisfied: soupsieve>1.2 in /usr/local/lib/python3.11/dist-packages (from beautifulsoup4) (2.6)\n",
            "Requirement already satisfied: typing-extensions>=4.0.0 in /usr/local/lib/python3.11/dist-packages (from beautifulsoup4) (4.12.2)\n",
            "Requirement already satisfied: anyio in /usr/local/lib/python3.11/dist-packages (from httpx~=0.27->python-telegram-bot) (3.7.1)\n",
            "Requirement already satisfied: httpcore==1.* in /usr/local/lib/python3.11/dist-packages (from httpx~=0.27->python-telegram-bot) (1.0.7)\n",
            "Requirement already satisfied: h11<0.15,>=0.13 in /usr/local/lib/python3.11/dist-packages (from httpcore==1.*->httpx~=0.27->python-telegram-bot) (0.14.0)\n",
            "Requirement already satisfied: sniffio>=1.1 in /usr/local/lib/python3.11/dist-packages (from anyio->httpx~=0.27->python-telegram-bot) (1.3.1)\n",
            "Downloading python_telegram_bot-21.10-py3-none-any.whl (669 kB)\n",
            "\u001b[2K   \u001b[90m━━━━━━━━━━━━━━━━━━━━━━━━━━━━━━━━━━━━━━━━\u001b[0m \u001b[32m669.5/669.5 kB\u001b[0m \u001b[31m12.6 MB/s\u001b[0m eta \u001b[36m0:00:00\u001b[0m\n",
            "\u001b[?25hInstalling collected packages: python-telegram-bot\n",
            "Successfully installed python-telegram-bot-21.10\n"
          ]
        }
      ],
      "source": [
        "!pip install python-telegram-bot requests beautifulsoup4\n"
      ]
    },
    {
      "cell_type": "code",
      "execution_count": null,
      "metadata": {
        "id": "kd6krO1WJe72"
      },
      "outputs": [],
      "source": [
        "TOKEN = \"7702743601:AAEZ1pbvamYx7A-omTRNicK5fs3c_YFl7QI\""
      ]
    },
    {
      "cell_type": "code",
      "execution_count": null,
      "metadata": {
        "colab": {
          "background_save": true,
          "base_uri": "https://localhost:8080/"
        },
        "id": "of1n3sagJKi-",
        "outputId": "544c2886-27bf-459a-f1a9-aef31379c45b"
      },
      "outputs": [
        {
          "name": "stdout",
          "output_type": "stream",
          "text": [
            "🤖 Bot is running...\n"
          ]
        }
      ],
      "source": [
        "import nest_asyncio\n",
        "import asyncio\n",
        "import requests\n",
        "from bs4 import BeautifulSoup\n",
        "from telegram import Update\n",
        "from telegram.ext import Application, CommandHandler, CallbackContext\n",
        "\n",
        "nest_asyncio.apply()\n",
        "\n",
        "async def get_dollar_price():\n",
        "    url = \"https://www.tgju.org/profile/price_dollar_rl\"\n",
        "    headers = {\"User-Agent\": \"Mozilla/5.0\"}\n",
        "    response = requests.get(url, headers=headers)\n",
        "    soup = BeautifulSoup(response.text, \"html.parser\")\n",
        "\n",
        "    price_element = soup.find(\"td\", class_=\"text-left\")\n",
        "    return price_element.text.strip() if price_element else \"❌ قیمت پیدا نشد\"\n",
        "\n",
        "\n",
        "async def start(update: Update, context: CallbackContext) -> None:\n",
        "    await update.message.reply_text(\"سلام! برای دریافت قیمت دلار از دستور /price استفاده کنید.\")\n",
        "\n",
        "async def price(update: Update, context: CallbackContext) -> None:\n",
        "    price = await get_dollar_price()\n",
        "    await update.message.reply_text(f\"💵 قیمت لحظه‌ای دلار: {price} ریال\")\n",
        "\n",
        "async def main():\n",
        "    app = Application.builder().token(TOKEN).build()\n",
        "    app.add_handler(CommandHandler(\"start\", start))\n",
        "    app.add_handler(CommandHandler(\"price\", price))\n",
        "\n",
        "    print(\"🤖 Bot is running...\")\n",
        "    await app.run_polling()\n",
        "if __name__ == \"__main__\":\n",
        "    try:\n",
        "        asyncio.get_event_loop().run_until_complete(main())\n",
        "    except RuntimeError:\n",
        "        loop = asyncio.new_event_loop()\n",
        "        asyncio.set_event_loop(loop)\n",
        "        loop.run_until_complete(main())\n"
      ]
    },
    {
      "cell_type": "code",
      "execution_count": null,
      "metadata": {
        "id": "HXX_qiY_JYuT"
      },
      "outputs": [],
      "source": []
    }
  ],
  "metadata": {
    "colab": {
      "provenance": []
    },
    "kernelspec": {
      "display_name": "Python 3",
      "name": "python3"
    },
    "language_info": {
      "name": "python"
    }
  },
  "nbformat": 4,
  "nbformat_minor": 0
}